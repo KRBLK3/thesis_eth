{
 "cells": [
  {
   "cell_type": "code",
   "execution_count": 2,
   "metadata": {},
   "outputs": [],
   "source": [
    "import sys\n",
    "import numpy as np\n",
    "sys.path.insert(0, '/home/songbird/Desktop/skeleton_tools-master/skeleton_tools')\n",
    "from skeleton_tools import Skeleton"
   ]
  },
  {
   "cell_type": "code",
   "execution_count": 3,
   "metadata": {},
   "outputs": [
    {
     "name": "stdout",
     "output_type": "stream",
     "text": [
      "1.11\n"
     ]
    }
   ],
   "source": [
    "import networkx\n",
    "print networkx.__version__"
   ]
  },
  {
   "cell_type": "code",
   "execution_count": 3,
   "metadata": {},
   "outputs": [],
   "source": [
    "skeleton = Skeleton(voxel_size=[8, 8, 8]) # create a skeleton instance\n",
    "skeleton.add_node(node_id=0, pos_voxel=np.array([10, 20, 30])) # add two nodes\n",
    "skeleton.add_node(node_id=1, pos_voxel=np.array([50, 50, 50]))\n",
    "skeleton.add_edge(0, 1)\n",
    "#skeleton.write_to_knossos_nml('/home/songbird/Desktop/dummy.nml')"
   ]
  },
  {
   "cell_type": "code",
   "execution_count": null,
   "metadata": {},
   "outputs": [],
   "source": []
  }
 ],
 "metadata": {
  "kernelspec": {
   "display_name": "Python 2",
   "language": "python",
   "name": "python2"
  },
  "language_info": {
   "codemirror_mode": {
    "name": "ipython",
    "version": 2
   },
   "file_extension": ".py",
   "mimetype": "text/x-python",
   "name": "python",
   "nbconvert_exporter": "python",
   "pygments_lexer": "ipython2",
   "version": "2.7.14"
  }
 },
 "nbformat": 4,
 "nbformat_minor": 2
}
