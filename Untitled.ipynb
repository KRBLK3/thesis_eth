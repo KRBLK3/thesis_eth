{
 "cells": [
  {
   "cell_type": "code",
   "execution_count": 276,
   "metadata": {},
   "outputs": [],
   "source": [
    "import skeleton_tools\n",
    "import numpy as np\n",
    "import h5py\n",
    "\n",
    "# filename = '/raid/julia/data/segem_own/supplements/S3_own/cortex_training_local_better.nml'\n",
    "\n",
    "# filename = '/raid/julia/data/segem_own/supplements/S3_own/cortex_training_local_better_branchingexample.nml'\n",
    "\n",
    "# filename = '/raid/julia/data/segem_own/supplements/S3_own/cortex_test_local.nml'\n",
    "\n",
    "# filename = '/raid/julia/projects/neurontracking/segem/cortex_skeletons_manualcorrected/cortex_training.nml'\n",
    "\n",
    "# filename = '/mnt/segem_mount/SegEM_challenge/skeletonData/cortex_test.nml'\n",
    "\n",
    "filename = '/mnt/segem_mount/SegEM_challenge/skeletonData/cortex_training.nml'\n",
    "# filename = '/mnt/segem_mount/supplement/extracted/cortex_training.nml'\n",
    "# filename = '/raid/julia/data/segem_own/supplements/S3/cortex_training_local.nml'\n",
    "\n",
    "outputfilename = '/raid/julia/projects/neurontracking/segem/mousecortex_skeletoncubes/binary_mask.h5'\n",
    "interpolated_skeletons = filename.replace('.nml', '_interpolated.nml')\n",
    "\n",
    "print interpolated_skeletons\n",
    "\n"
   ]
  },
  {
   "cell_type": "code",
   "execution_count": null,
   "metadata": {},
   "outputs": [],
   "source": [
    "data_shape = (740, 868, 251)\n",
    "sk_con = skeleton_tools.SkeletonContainer()\n",
    "sk_con.read_from_knossos_nml(filename, voxel_size=[11.24, 11.24, 26]) # Paper says they used z=28, but recalculated it\n",
    "print len(sk_con.skeleton_list)"
   ]
  },
  {
   "cell_type": "code",
   "execution_count": 1,
   "metadata": {},
   "outputs": [],
   "source": [
    "import numpy as np"
   ]
  },
  {
   "cell_type": "code",
   "execution_count": 2,
   "metadata": {},
   "outputs": [],
   "source": [
    "a=[[1,2],[1,2],[1,3]]"
   ]
  },
  {
   "cell_type": "code",
   "execution_count": 3,
   "metadata": {},
   "outputs": [
    {
     "data": {
      "text/plain": [
       "[[1, 2], [1, 2], [1, 3]]"
      ]
     },
     "execution_count": 3,
     "metadata": {},
     "output_type": "execute_result"
    }
   ],
   "source": [
    "a"
   ]
  },
  {
   "cell_type": "code",
   "execution_count": 8,
   "metadata": {},
   "outputs": [
    {
     "data": {
      "text/plain": [
       "1"
      ]
     },
     "execution_count": 8,
     "metadata": {},
     "output_type": "execute_result"
    }
   ],
   "source": [
    "set(tuple(row) for row in a)\n"
   ]
  },
  {
   "cell_type": "code",
   "execution_count": null,
   "metadata": {},
   "outputs": [],
   "source": []
  }
 ],
 "metadata": {
  "kernelspec": {
   "display_name": "Python 2",
   "language": "python",
   "name": "python2"
  },
  "language_info": {
   "codemirror_mode": {
    "name": "ipython",
    "version": 2
   },
   "file_extension": ".py",
   "mimetype": "text/x-python",
   "name": "python",
   "nbconvert_exporter": "python",
   "pygments_lexer": "ipython2",
   "version": "2.7.14"
  }
 },
 "nbformat": 4,
 "nbformat_minor": 2
}
