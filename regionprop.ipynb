{
 "cells": [
  {
   "cell_type": "code",
   "execution_count": 1,
   "metadata": {},
   "outputs": [],
   "source": [
    "from skimage.measure import regionprops"
   ]
  },
  {
   "cell_type": "code",
   "execution_count": 2,
   "metadata": {
    "scrolled": true
   },
   "outputs": [
    {
     "name": "stderr",
     "output_type": "stream",
     "text": [
      "/home/songbird/.local/lib/python2.7/site-packages/h5py/__init__.py:36: FutureWarning: Conversion of the second argument of issubdtype from `float` to `np.floating` is deprecated. In future, it will be treated as `np.float64 == np.dtype(float).type`.\n",
      "  from ._conv import register_converters as _register_converters\n"
     ]
    }
   ],
   "source": [
    "import nyroglancer\n",
    "import h5py\n",
    "import numpy as np\n",
    "from PIL import Image\n",
    "\n",
    "from os import listdir\n",
    "from os.path import isfile, join\n",
    "\n",
    "mypath='/media/songbird/Seagate Expansion Drive/multicut_segm'\n",
    "\n",
    "mypath2='/media/songbird/Seagate Expansion Drive/8bitcrop seq'\n",
    "mypath3='/media/songbird/Seagate Expansion Drive/proba_map'"
   ]
  },
  {
   "cell_type": "markdown",
   "metadata": {},
   "source": [
    "## Data Import + Preparation of 3d Cubes"
   ]
  },
  {
   "cell_type": "code",
   "execution_count": 3,
   "metadata": {},
   "outputs": [],
   "source": [
    "multicut =[join(mypath, f) for f in listdir(mypath) if isfile(join(mypath, f))]\n",
    "\n",
    "raw=[join(mypath2, f) for f in listdir(mypath2) if isfile(join(mypath2, f))]\n",
    "proba_map=[join(mypath3, f) for f in listdir(mypath3) if isfile(join(mypath3, f))]\n"
   ]
  },
  {
   "cell_type": "code",
   "execution_count": 4,
   "metadata": {},
   "outputs": [],
   "source": [
    "multicut.sort()\n",
    "proba_map.sort()\n",
    "raw.sort()\n",
    "xs=2100\n",
    "xe=2300\n",
    "\n",
    "ys=1000\n",
    "ye=1200\n",
    "\n",
    "start=450\n",
    "end=650\n",
    "\n",
    "\n",
    "multicut=multicut[start:end]\n",
    "proba_map=proba_map[start:end]\n",
    "raw=raw[start:end]"
   ]
  },
  {
   "cell_type": "code",
   "execution_count": 5,
   "metadata": {},
   "outputs": [
    {
     "data": {
      "text/plain": [
       "200"
      ]
     },
     "execution_count": 5,
     "metadata": {},
     "output_type": "execute_result"
    }
   ],
   "source": [
    "len(proba_map)"
   ]
  },
  {
   "cell_type": "code",
   "execution_count": 6,
   "metadata": {
    "scrolled": true
   },
   "outputs": [
    {
     "name": "stdout",
     "output_type": "stream",
     "text": [
      "(200, 200, 1)\n",
      "uint32\n",
      "(200, 200, 1)\n",
      "uint32\n",
      "(200, 200, 1)\n",
      "uint32\n",
      "(200, 200, 1)\n",
      "uint32\n",
      "(200, 200, 1)\n",
      "uint32\n",
      "(200, 200, 1)\n",
      "uint32\n",
      "(200, 200, 1)\n",
      "uint32\n",
      "(200, 200, 1)\n",
      "uint32\n",
      "(200, 200, 1)\n",
      "uint32\n",
      "(200, 200, 1)\n",
      "uint32\n",
      "(200, 200, 1)\n",
      "uint32\n",
      "(200, 200, 1)\n",
      "uint32\n",
      "(200, 200, 1)\n",
      "uint32\n",
      "(200, 200, 1)\n",
      "uint32\n",
      "(200, 200, 1)\n",
      "uint32\n",
      "(200, 200, 1)\n",
      "uint32\n",
      "(200, 200, 1)\n",
      "uint32\n",
      "(200, 200, 1)\n",
      "uint32\n",
      "(200, 200, 1)\n",
      "uint32\n",
      "(200, 200, 1)\n",
      "uint32\n",
      "(200, 200, 1)\n",
      "uint32\n",
      "(200, 200, 1)\n",
      "uint32\n",
      "(200, 200, 1)\n",
      "uint32\n",
      "(200, 200, 1)\n",
      "uint32\n",
      "(200, 200, 1)\n",
      "uint32\n",
      "(200, 200, 1)\n",
      "uint32\n",
      "(200, 200, 1)\n",
      "uint32\n",
      "(200, 200, 1)\n",
      "uint32\n",
      "(200, 200, 1)\n",
      "uint32\n",
      "(200, 200, 1)\n",
      "uint32\n",
      "(200, 200, 1)\n",
      "uint32\n",
      "(200, 200, 1)\n",
      "uint32\n",
      "(200, 200, 1)\n",
      "uint32\n",
      "(200, 200, 1)\n",
      "uint32\n",
      "(200, 200, 1)\n",
      "uint32\n",
      "(200, 200, 1)\n",
      "uint32\n",
      "(200, 200, 1)\n",
      "uint32\n",
      "(200, 200, 1)\n",
      "uint32\n",
      "(200, 200, 1)\n",
      "uint32\n",
      "(200, 200, 1)\n",
      "uint32\n",
      "(200, 200, 1)\n",
      "uint32\n",
      "(200, 200, 1)\n",
      "uint32\n",
      "(200, 200, 1)\n",
      "uint32\n",
      "(200, 200, 1)\n",
      "uint32\n",
      "(200, 200, 1)\n",
      "uint32\n",
      "(200, 200, 1)\n",
      "uint32\n",
      "(200, 200, 1)\n",
      "uint32\n",
      "(200, 200, 1)\n",
      "uint32\n",
      "(200, 200, 1)\n",
      "uint32\n",
      "(200, 200, 1)\n",
      "uint32\n",
      "(200, 200, 1)\n",
      "uint32\n",
      "(200, 200, 1)\n",
      "uint32\n",
      "(200, 200, 1)\n",
      "uint32\n",
      "(200, 200, 1)\n",
      "uint32\n",
      "(200, 200, 1)\n",
      "uint32\n",
      "(200, 200, 1)\n",
      "uint32\n",
      "(200, 200, 1)\n",
      "uint32\n",
      "(200, 200, 1)\n",
      "uint32\n",
      "(200, 200, 1)\n",
      "uint32\n",
      "(200, 200, 1)\n",
      "uint32\n",
      "(200, 200, 1)\n",
      "uint32\n",
      "(200, 200, 1)\n",
      "uint32\n",
      "(200, 200, 1)\n",
      "uint32\n",
      "(200, 200, 1)\n",
      "uint32\n",
      "(200, 200, 1)\n",
      "uint32\n",
      "(200, 200, 1)\n",
      "uint32\n",
      "(200, 200, 1)\n",
      "uint32\n",
      "(200, 200, 1)\n",
      "uint32\n",
      "(200, 200, 1)\n",
      "uint32\n",
      "(200, 200, 1)\n",
      "uint32\n",
      "(200, 200, 1)\n",
      "uint32\n",
      "(200, 200, 1)\n",
      "uint32\n",
      "(200, 200, 1)\n",
      "uint32\n",
      "(200, 200, 1)\n",
      "uint32\n",
      "(200, 200, 1)\n",
      "uint32\n",
      "(200, 200, 1)\n",
      "uint32\n",
      "(200, 200, 1)\n",
      "uint32\n",
      "(200, 200, 1)\n",
      "uint32\n",
      "(200, 200, 1)\n",
      "uint32\n",
      "(200, 200, 1)\n",
      "uint32\n",
      "(200, 200, 1)\n",
      "uint32\n",
      "(200, 200, 1)\n",
      "uint32\n",
      "(200, 200, 1)\n",
      "uint32\n",
      "(200, 200, 1)\n",
      "uint32\n",
      "(200, 200, 1)\n",
      "uint32\n",
      "(200, 200, 1)\n",
      "uint32\n",
      "(200, 200, 1)\n",
      "uint32\n",
      "(200, 200, 1)\n",
      "uint32\n",
      "(200, 200, 1)\n",
      "uint32\n",
      "(200, 200, 1)\n",
      "uint32\n",
      "(200, 200, 1)\n",
      "uint32\n",
      "(200, 200, 1)\n",
      "uint32\n",
      "(200, 200, 1)\n",
      "uint32\n",
      "(200, 200, 1)\n",
      "uint32\n",
      "(200, 200, 1)\n",
      "uint32\n",
      "(200, 200, 1)\n",
      "uint32\n",
      "(200, 200, 1)\n",
      "uint32\n",
      "(200, 200, 1)\n",
      "uint32\n",
      "(200, 200, 1)\n",
      "uint32\n",
      "(200, 200, 1)\n",
      "uint32\n",
      "(200, 200, 1)\n",
      "uint32\n",
      "(200, 200, 1)\n",
      "uint32\n",
      "(200, 200, 1)\n",
      "uint32\n",
      "(200, 200, 1)\n",
      "uint32\n",
      "(200, 200, 1)\n",
      "uint32\n",
      "(200, 200, 1)\n",
      "uint32\n",
      "(200, 200, 1)\n",
      "uint32\n",
      "(200, 200, 1)\n",
      "uint32\n",
      "(200, 200, 1)\n",
      "uint32\n",
      "(200, 200, 1)\n",
      "uint32\n",
      "(200, 200, 1)\n",
      "uint32\n",
      "(200, 200, 1)\n",
      "uint32\n",
      "(200, 200, 1)\n",
      "uint32\n",
      "(200, 200, 1)\n",
      "uint32\n",
      "(200, 200, 1)\n",
      "uint32\n",
      "(200, 200, 1)\n",
      "uint32\n",
      "(200, 200, 1)\n",
      "uint32\n",
      "(200, 200, 1)\n",
      "uint32\n",
      "(200, 200, 1)\n",
      "uint32\n",
      "(200, 200, 1)\n",
      "uint32\n",
      "(200, 200, 1)\n",
      "uint32\n",
      "(200, 200, 1)\n",
      "uint32\n",
      "(200, 200, 1)\n",
      "uint32\n",
      "(200, 200, 1)\n",
      "uint32\n",
      "(200, 200, 1)\n",
      "uint32\n",
      "(200, 200, 1)\n",
      "uint32\n",
      "(200, 200, 1)\n",
      "uint32\n",
      "(200, 200, 1)\n",
      "uint32\n",
      "(200, 200, 1)\n",
      "uint32\n",
      "(200, 200, 1)\n",
      "uint32\n",
      "(200, 200, 1)\n",
      "uint32\n",
      "(200, 200, 1)\n",
      "uint32\n",
      "(200, 200, 1)\n",
      "uint32\n",
      "(200, 200, 1)\n",
      "uint32\n",
      "(200, 200, 1)\n",
      "uint32\n",
      "(200, 200, 1)\n",
      "uint32\n",
      "(200, 200, 1)\n",
      "uint32\n",
      "(200, 200, 1)\n",
      "uint32\n",
      "(200, 200, 1)\n",
      "uint32\n",
      "(200, 200, 1)\n",
      "uint32\n",
      "(200, 200, 1)\n",
      "uint32\n",
      "(200, 200, 1)\n",
      "uint32\n",
      "(200, 200, 1)\n",
      "uint32\n",
      "(200, 200, 1)\n",
      "uint32\n",
      "(200, 200, 1)\n",
      "uint32\n",
      "(200, 200, 1)\n",
      "uint32\n",
      "(200, 200, 1)\n",
      "uint32\n",
      "(200, 200, 1)\n",
      "uint32\n",
      "(200, 200, 1)\n",
      "uint32\n",
      "(200, 200, 1)\n",
      "uint32\n",
      "(200, 200, 1)\n",
      "uint32\n",
      "(200, 200, 1)\n",
      "uint32\n",
      "(200, 200, 1)\n",
      "uint32\n",
      "(200, 200, 1)\n",
      "uint32\n",
      "(200, 200, 1)\n",
      "uint32\n",
      "(200, 200, 1)\n",
      "uint32\n",
      "(200, 200, 1)\n",
      "uint32\n",
      "(200, 200, 1)\n",
      "uint32\n",
      "(200, 200, 1)\n",
      "uint32\n",
      "(200, 200, 1)\n",
      "uint32\n",
      "(200, 200, 1)\n",
      "uint32\n",
      "(200, 200, 1)\n",
      "uint32\n",
      "(200, 200, 1)\n",
      "uint32\n",
      "(200, 200, 1)\n",
      "uint32\n",
      "(200, 200, 1)\n",
      "uint32\n",
      "(200, 200, 1)\n",
      "uint32\n",
      "(200, 200, 1)\n",
      "uint32\n",
      "(200, 200, 1)\n",
      "uint32\n",
      "(200, 200, 1)\n",
      "uint32\n",
      "(200, 200, 1)\n",
      "uint32\n",
      "(200, 200, 1)\n",
      "uint32\n",
      "(200, 200, 1)\n",
      "uint32\n",
      "(200, 200, 1)\n",
      "uint32\n",
      "(200, 200, 1)\n",
      "uint32\n",
      "(200, 200, 1)\n",
      "uint32\n",
      "(200, 200, 1)\n",
      "uint32\n",
      "(200, 200, 1)\n",
      "uint32\n",
      "(200, 200, 1)\n",
      "uint32\n",
      "(200, 200, 1)\n",
      "uint32\n",
      "(200, 200, 1)\n",
      "uint32\n",
      "(200, 200, 1)\n",
      "uint32\n",
      "(200, 200, 1)\n",
      "uint32\n",
      "(200, 200, 1)\n",
      "uint32\n",
      "(200, 200, 1)\n",
      "uint32\n",
      "(200, 200, 1)\n",
      "uint32\n",
      "(200, 200, 1)\n",
      "uint32\n",
      "(200, 200, 1)\n",
      "uint32\n",
      "(200, 200, 1)\n",
      "uint32\n",
      "(200, 200, 1)\n",
      "uint32\n",
      "(200, 200, 1)\n",
      "uint32\n",
      "(200, 200, 1)\n",
      "uint32\n",
      "(200, 200, 1)\n",
      "uint32\n",
      "(200, 200, 1)\n",
      "uint32\n",
      "(200, 200, 1)\n",
      "uint32\n",
      "(200, 200, 1)\n",
      "uint32\n",
      "(200, 200, 1)\n",
      "uint32\n",
      "(200, 200, 1)\n",
      "uint32\n",
      "(200, 200, 1)\n",
      "uint32\n",
      "(200, 200, 1)\n",
      "uint32\n",
      "(200, 200, 1)\n",
      "uint32\n"
     ]
    }
   ],
   "source": [
    "multicut_list=[]\n",
    "\n",
    "for f in multicut:\n",
    "    fil=h5py.File(f, 'r')\n",
    "    data =fil['/exported_data'][xs:xe,ys:ye, :1]\n",
    "    data=np.transpose(data,axes=(1,0,2))\n",
    "    \n",
    "    print data.shape\n",
    "    print data.dtype\n",
    "    multicut_list.append(data)"
   ]
  },
  {
   "cell_type": "code",
   "execution_count": 7,
   "metadata": {},
   "outputs": [],
   "source": [
    "for i in range(1,len(multicut_list)):\n",
    "    temp=multicut_list[i-1]\n",
    "    pastlist =list(set(temp.flatten()))\n",
    "    pastlist.sort()\n",
    "    indextostitch=pastlist[len(pastlist)-1]\n",
    "    \n",
    "    multicut_list[i]=multicut_list[i]+indextostitch\n",
    "\n",
    "        \n",
    "    "
   ]
  },
  {
   "cell_type": "code",
   "execution_count": 8,
   "metadata": {},
   "outputs": [],
   "source": [
    "test=tuple(multicut_list)\n",
    "multicut_final=np.dstack(test)"
   ]
  },
  {
   "cell_type": "code",
   "execution_count": 9,
   "metadata": {},
   "outputs": [
    {
     "data": {
      "text/plain": [
       "(200, 200, 200)"
      ]
     },
     "execution_count": 9,
     "metadata": {},
     "output_type": "execute_result"
    }
   ],
   "source": [
    "multicut_final.shape"
   ]
  },
  {
   "cell_type": "code",
   "execution_count": 10,
   "metadata": {
    "scrolled": true
   },
   "outputs": [
    {
     "name": "stdout",
     "output_type": "stream",
     "text": [
      "float64\n",
      "float64\n",
      "float64\n",
      "float64\n",
      "float64\n",
      "float64\n",
      "float64\n",
      "float64\n",
      "float64\n",
      "float64\n",
      "float64\n",
      "float64\n",
      "float64\n",
      "float64\n",
      "float64\n",
      "float64\n",
      "float64\n",
      "float64\n",
      "float64\n",
      "float64\n",
      "float64\n",
      "float64\n",
      "float64\n",
      "float64\n",
      "float64\n",
      "float64\n",
      "float64\n",
      "float64\n",
      "float64\n",
      "float64\n",
      "float64\n",
      "float64\n",
      "float64\n",
      "float64\n",
      "float64\n",
      "float64\n",
      "float64\n",
      "float64\n",
      "float64\n",
      "float64\n",
      "float64\n",
      "float64\n",
      "float64\n",
      "float64\n",
      "float64\n",
      "float64\n",
      "float64\n",
      "float64\n",
      "float64\n",
      "float64\n",
      "float64\n",
      "float64\n",
      "float64\n",
      "float64\n",
      "float64\n",
      "float64\n",
      "float64\n",
      "float64\n",
      "float64\n",
      "float64\n",
      "float64\n",
      "float64\n",
      "float64\n",
      "float64\n",
      "float64\n",
      "float64\n",
      "float64\n",
      "float64\n",
      "float64\n",
      "float64\n",
      "float64\n",
      "float64\n",
      "float64\n",
      "float64\n",
      "float64\n",
      "float64\n",
      "float64\n",
      "float64\n",
      "float64\n",
      "float64\n",
      "float64\n",
      "float64\n",
      "float64\n",
      "float64\n",
      "float64\n",
      "float64\n",
      "float64\n",
      "float64\n",
      "float64\n",
      "float64\n",
      "float64\n",
      "float64\n",
      "float64\n",
      "float64\n",
      "float64\n",
      "float64\n",
      "float64\n",
      "float64\n",
      "float64\n",
      "float64\n",
      "float64\n",
      "float64\n",
      "float64\n",
      "float64\n",
      "float64\n",
      "float64\n",
      "float64\n",
      "float64\n",
      "float64\n",
      "float64\n",
      "float64\n",
      "float64\n",
      "float64\n",
      "float64\n",
      "float64\n",
      "float64\n",
      "float64\n",
      "float64\n",
      "float64\n",
      "float64\n",
      "float64\n",
      "float64\n",
      "float64\n",
      "float64\n",
      "float64\n",
      "float64\n",
      "float64\n",
      "float64\n",
      "float64\n",
      "float64\n",
      "float64\n",
      "float64\n",
      "float64\n",
      "float64\n",
      "float64\n",
      "float64\n",
      "float64\n",
      "float64\n",
      "float64\n",
      "float64\n",
      "float64\n",
      "float64\n",
      "float64\n",
      "float64\n",
      "float64\n",
      "float64\n",
      "float64\n",
      "float64\n",
      "float64\n",
      "float64\n",
      "float64\n",
      "float64\n",
      "float64\n",
      "float64\n",
      "float64\n",
      "float64\n",
      "float64\n",
      "float64\n",
      "float64\n",
      "float64\n",
      "float64\n",
      "float64\n",
      "float64\n",
      "float64\n",
      "float64\n",
      "float64\n",
      "float64\n",
      "float64\n",
      "float64\n",
      "float64\n",
      "float64\n",
      "float64\n",
      "float64\n",
      "float64\n",
      "float64\n",
      "float64\n",
      "float64\n",
      "float64\n",
      "float64\n",
      "float64\n",
      "float64\n",
      "float64\n",
      "float64\n",
      "float64\n",
      "float64\n",
      "float64\n",
      "float64\n",
      "float64\n",
      "float64\n",
      "float64\n",
      "float64\n",
      "float64\n",
      "float64\n",
      "float64\n",
      "float64\n",
      "float64\n",
      "float64\n",
      "float64\n",
      "float64\n",
      "float64\n"
     ]
    }
   ],
   "source": [
    "\n",
    "proba_map_list=[]\n",
    "\n",
    "for f in proba_map:\n",
    "    fil=h5py.File(f, 'r')\n",
    "    data =fil['/exported_data'][xs:xe, ys:ye, 1:]\n",
    "    data=np.transpose(data,axes=(1,0,2))\n",
    "    print data.dtype\n",
    "    proba_map_list.append(data)"
   ]
  },
  {
   "cell_type": "code",
   "execution_count": 11,
   "metadata": {},
   "outputs": [],
   "source": [
    "probatuple=tuple(proba_map_list)\n",
    "proba_final=np.dstack(probatuple)\n",
    "proba_final=proba_final.astype('float32')"
   ]
  },
  {
   "cell_type": "code",
   "execution_count": 12,
   "metadata": {},
   "outputs": [
    {
     "data": {
      "text/plain": [
       "(200, 200, 200)"
      ]
     },
     "execution_count": 12,
     "metadata": {},
     "output_type": "execute_result"
    }
   ],
   "source": [
    "proba_final.shape"
   ]
  },
  {
   "cell_type": "code",
   "execution_count": 11,
   "metadata": {
    "scrolled": false
   },
   "outputs": [
    {
     "name": "stdout",
     "output_type": "stream",
     "text": [
      "0\n",
      "1\n",
      "2\n",
      "3\n",
      "4\n",
      "5\n",
      "6\n",
      "7\n",
      "8\n",
      "9\n",
      "10\n",
      "11\n",
      "12\n",
      "13\n",
      "14\n",
      "15\n",
      "16\n",
      "17\n",
      "18\n",
      "19\n",
      "20\n",
      "21\n",
      "22\n",
      "23\n",
      "24\n",
      "25\n",
      "26\n",
      "27\n",
      "28\n",
      "29\n",
      "30\n",
      "31\n",
      "32\n",
      "33\n",
      "34\n",
      "35\n",
      "36\n",
      "37\n",
      "38\n",
      "39\n",
      "40\n",
      "41\n",
      "42\n",
      "43\n",
      "44\n",
      "45\n",
      "46\n",
      "47\n",
      "48\n",
      "49\n",
      "50\n",
      "51\n",
      "52\n",
      "53\n",
      "54\n",
      "55\n",
      "56\n",
      "57\n",
      "58\n",
      "59\n",
      "60\n",
      "61\n",
      "62\n",
      "63\n",
      "64\n",
      "65\n",
      "66\n",
      "67\n",
      "68\n",
      "69\n",
      "70\n",
      "71\n",
      "72\n",
      "73\n",
      "74\n",
      "75\n",
      "76\n",
      "77\n",
      "78\n",
      "79\n",
      "80\n",
      "81\n",
      "82\n",
      "83\n",
      "84\n",
      "85\n",
      "86\n",
      "87\n",
      "88\n",
      "89\n",
      "90\n",
      "91\n",
      "92\n",
      "93\n",
      "94\n",
      "95\n",
      "96\n",
      "97\n",
      "98\n",
      "99\n",
      "100\n",
      "101\n",
      "102\n",
      "103\n",
      "104\n",
      "105\n",
      "106\n",
      "107\n",
      "108\n",
      "109\n",
      "110\n",
      "111\n",
      "112\n",
      "113\n",
      "114\n",
      "115\n",
      "116\n",
      "117\n",
      "118\n",
      "119\n",
      "120\n",
      "121\n",
      "122\n",
      "123\n",
      "124\n",
      "125\n",
      "126\n",
      "127\n",
      "128\n",
      "129\n",
      "130\n",
      "131\n",
      "132\n",
      "133\n",
      "134\n",
      "135\n",
      "136\n",
      "137\n",
      "138\n",
      "139\n",
      "140\n",
      "141\n",
      "142\n",
      "143\n",
      "144\n",
      "145\n",
      "146\n",
      "147\n",
      "148\n",
      "149\n",
      "150\n",
      "151\n",
      "152\n",
      "153\n",
      "154\n",
      "155\n",
      "156\n",
      "157\n",
      "158\n",
      "159\n",
      "160\n",
      "161\n",
      "162\n",
      "163\n",
      "164\n",
      "165\n",
      "166\n",
      "167\n",
      "168\n",
      "169\n",
      "170\n",
      "171\n",
      "172\n",
      "173\n",
      "174\n",
      "175\n",
      "176\n",
      "177\n",
      "178\n",
      "179\n",
      "180\n",
      "181\n",
      "182\n",
      "183\n",
      "184\n",
      "185\n",
      "186\n",
      "187\n",
      "188\n",
      "189\n",
      "190\n",
      "191\n",
      "192\n",
      "193\n",
      "194\n",
      "195\n",
      "196\n",
      "197\n",
      "198\n",
      "199\n"
     ]
    },
    {
     "data": {
      "text/plain": [
       "(200, 200, 200)"
      ]
     },
     "execution_count": 11,
     "metadata": {},
     "output_type": "execute_result"
    }
   ],
   "source": [
    "raw_list=[]\n",
    "i=0\n",
    "for f in raw:\n",
    "    imarray=np.array(Image.open(f))\n",
    "    imarray=imarray[xs:xe,ys:ye]\n",
    "    imarray=np.reshape(imarray,(imarray.shape[0],imarray.shape[1],1))\n",
    "    imarray=np.transpose(imarray,axes=(1,0,2))\n",
    "    raw_list.append(imarray)\n",
    "    print(i)\n",
    "    i=i+1\n",
    "\n",
    "rawtuple=tuple(raw_list)\n",
    "rawfinal=np.dstack(rawtuple)\n",
    "rawfinal.shape"
   ]
  },
  {
   "cell_type": "code",
   "execution_count": 13,
   "metadata": {},
   "outputs": [
    {
     "data": {
      "text/plain": [
       "<HDF5 dataset \"croped_raw\": shape (200, 200, 200), type \"|u1\">"
      ]
     },
     "execution_count": 13,
     "metadata": {},
     "output_type": "execute_result"
    }
   ],
   "source": [
    "import numpy as np\n",
    "import h5py\n",
    "h5f = h5py.File('/media/songbird/Seagate Expansion Drive/croped_data.h5', 'w')\n",
    "h5f.create_dataset('croped_raw', data=rawfinal)"
   ]
  },
  {
   "cell_type": "markdown",
   "metadata": {},
   "source": [
    "## Centroids"
   ]
  },
  {
   "cell_type": "code",
   "execution_count": 14,
   "metadata": {},
   "outputs": [],
   "source": [
    "from skimage import data, util\n",
    "from skimage.measure import label\n",
    "label_img = label(multicut_final, connectivity=multicut_final[0].ndim)\n",
    "props = regionprops(label_img)\n",
    "\n",
    "indexes_centroids=[]\n",
    "for i in range(len(props)):\n",
    "    temp=[]\n",
    "    tes=props[i].centroid\n",
    "    temp.append(int(round(tes[0])))\n",
    "    temp.append(int(round(tes[1])))\n",
    "    temp.append(int(round(tes[2])))\n",
    "    k=tuple(temp)\n",
    "    indexes_centroids.append(k)"
   ]
  },
  {
   "cell_type": "code",
   "execution_count": 15,
   "metadata": {},
   "outputs": [
    {
     "data": {
      "text/plain": [
       "(5.431372549019608, 3.627450980392157, 0.0)"
      ]
     },
     "execution_count": 15,
     "metadata": {},
     "output_type": "execute_result"
    }
   ],
   "source": [
    "props[0].centroid"
   ]
  },
  {
   "cell_type": "code",
   "execution_count": 16,
   "metadata": {},
   "outputs": [
    {
     "data": {
      "text/plain": [
       "18151"
      ]
     },
     "execution_count": 16,
     "metadata": {},
     "output_type": "execute_result"
    }
   ],
   "source": [
    "len(indexes_centroids)"
   ]
  },
  {
   "cell_type": "markdown",
   "metadata": {
    "scrolled": true
   },
   "source": [
    "empty_vol=empty_vol.astype('float32')\n"
   ]
  },
  {
   "cell_type": "markdown",
   "metadata": {
    "scrolled": true
   },
   "source": []
  },
  {
   "cell_type": "code",
   "execution_count": 17,
   "metadata": {
    "scrolled": true
   },
   "outputs": [
    {
     "data": {
      "text/plain": [
       "(200, 200, 200)"
      ]
     },
     "execution_count": 17,
     "metadata": {},
     "output_type": "execute_result"
    }
   ],
   "source": [
    "multicut_final.shape"
   ]
  },
  {
   "cell_type": "markdown",
   "metadata": {},
   "source": [
    "## Preparation of 3D Segmentation"
   ]
  },
  {
   "cell_type": "code",
   "execution_count": 7,
   "metadata": {},
   "outputs": [
    {
     "name": "stdout",
     "output_type": "stream",
     "text": [
      "1.11\n"
     ]
    }
   ],
   "source": [
    "from scipy import spatial\n",
    "import numpy as np\n",
    "import networkx\n",
    "print networkx.__version__\n",
    "import sys\n",
    "from scipy.spatial.distance import euclidean\n",
    "\n",
    "import numpy as np\n",
    "sys.path.insert(0, '/home/songbird/Desktop/skeleton_tools-master/skeleton_tools')\n",
    "from skeleton_tools import Skeleton, SkeletonContainer\n",
    "\n",
    "def get_multicut3D(multicut_final, indexes_centroids,r,p=2.0, eps=0.0):\n",
    "    tree = spatial.KDTree(np.array(indexes_centroids))\n",
    "    r5=tree.query_pairs(r, p, eps)\n",
    "\n",
    "    r5=list(r5)\n",
    "\n",
    "\n",
    "\n",
    "    voxel_size = [5, 5, 5] # the physical length of the voxels\n",
    "    skeleton = Skeleton(voxel_size=voxel_size)\n",
    "\n",
    "    for r in r5:\n",
    "        node0=np.array(tree.data[r[0]])\n",
    "        node1=np.array(tree.data[r[1]])\n",
    "        skeleton.add_node(node_id=r[0], pos_voxel=node0) # add two nodes\n",
    "        skeleton.add_node(node_id=r[1], pos_voxel=node1)\n",
    "        skeleton.add_edge(r[0], r[1])\n",
    "\n",
    "\n",
    "    skeleton_collection=SkeletonContainer(skeletons=[skeleton])\n",
    "    skeleton_collection.split_into_cc()\n",
    "    #skeleton_collection.write_to_knossos_nml('/home/songbird/Desktop/knossos/traces_test.nml')\n",
    "\n",
    "    print('skeleton ok')\n",
    "\n",
    "\n",
    "    \n",
    "    multicut3D_regionsid=[]\n",
    "    for sk in skeleton_collection.skeleton_list:\n",
    "        multicut3D_regionsid.append(sk.get_seg_ids(multicut_final))\n",
    "    \n",
    "\n",
    "    \n",
    "    \n",
    "\n",
    "    multicut3D=np.zeros(multicut_final.shape)\n",
    "\n",
    "    index=0\n",
    "    for region in multicut3D_regionsid:\n",
    "        for uniqueid in region:\n",
    "            temp=np.where(multicut_final == uniqueid)\n",
    "            coordinates=tuple(zip(*temp))\n",
    "        \n",
    "            for c in coordinates:\n",
    "                multicut3D[c[0]][c[1]][c[2]]=index\n",
    "        index=index+1\n",
    "\n",
    "    multicut3D=multicut3D.astype(multicut_final.dtype)\n",
    "    return multicut3D, multicut3D_regionsid\n"
   ]
  },
  {
   "cell_type": "raw",
   "metadata": {},
   "source": [
    "for l in range(len(multicut3D_regionsid)):\n",
    "        for k in range(len(multicut3D_regionsid)):\n",
    "            if l==k:\n",
    "                break\n",
    "            else:\n",
    "                multicut3D_regionsid[l],multicut3D_regionsid[k]=[i for i in multicut3D_regionsid[l] if i not in multicut3D_regionsid[k]],[j for j in multicut3D_regionsid[k] if j not in multicut3D_regionsid[l]]\n",
    "\n",
    "    print('doubles removed')"
   ]
  },
  {
   "cell_type": "code",
   "execution_count": 182,
   "metadata": {
    "scrolled": false
   },
   "outputs": [
    {
     "name": "stdout",
     "output_type": "stream",
     "text": [
      "skeleton ok\n",
      "0\n",
      "skeleton ok\n",
      "1\n",
      "skeleton ok\n",
      "2\n",
      "skeleton ok\n",
      "3\n",
      "skeleton ok\n",
      "4\n",
      "skeleton ok\n",
      "5\n",
      "skeleton ok\n",
      "6\n",
      "skeleton ok\n",
      "7\n",
      "skeleton ok\n",
      "8\n",
      "skeleton ok\n",
      "9\n"
     ]
    }
   ],
   "source": [
    "multicut3D=[]\n",
    "for i in range(10):\n",
    "    multicut3D.append(get_multicut3D(multicut_final, indexes_centroids, r=i, p=2.0))\n",
    "    print(i)"
   ]
  },
  {
   "cell_type": "code",
   "execution_count": 617,
   "metadata": {},
   "outputs": [
    {
     "data": {
      "text/plain": [
       "[array([249110], dtype=uint32)]"
      ]
     },
     "execution_count": 617,
     "metadata": {},
     "output_type": "execute_result"
    }
   ],
   "source": [
    "multicut3D[0][1]\n",
    "\n",
    "filename = \n",
    "f = h5py.File(filename, 'w')\n",
    "ii = 0\n",
    "for arry_item1, array_item2 in multicut3D:\n",
    "    f.create_dataset(name='array%0.1'%ii, data=array_item2)\n",
    "    \n",
    "f.close()"
   ]
  },
  {
   "cell_type": "code",
   "execution_count": 613,
   "metadata": {},
   "outputs": [
    {
     "ename": "IOError",
     "evalue": "[Errno 2] No such file or directory: 'home/songbird/Desktop/3Dseg.pkl'",
     "output_type": "error",
     "traceback": [
      "\u001b[0;31m---------------------------------------------------------------------------\u001b[0m",
      "\u001b[0;31mIOError\u001b[0m                                   Traceback (most recent call last)",
      "\u001b[0;32m<ipython-input-613-4058c3120096>\u001b[0m in \u001b[0;36m<module>\u001b[0;34m()\u001b[0m\n\u001b[1;32m      2\u001b[0m \u001b[0;32mimport\u001b[0m \u001b[0mpickle\u001b[0m\u001b[0;34m\u001b[0m\u001b[0m\n\u001b[1;32m      3\u001b[0m \u001b[0;34m\u001b[0m\u001b[0m\n\u001b[0;32m----> 4\u001b[0;31m \u001b[0mpickle\u001b[0m\u001b[0;34m.\u001b[0m\u001b[0mdump\u001b[0m\u001b[0;34m(\u001b[0m\u001b[0mmulticut3D\u001b[0m\u001b[0;34m,\u001b[0m \u001b[0mopen\u001b[0m\u001b[0;34m(\u001b[0m\u001b[0;34m'home/songbird/Desktop/3Dseg.pkl'\u001b[0m\u001b[0;34m,\u001b[0m \u001b[0;34m'wb'\u001b[0m\u001b[0;34m)\u001b[0m\u001b[0;34m)\u001b[0m\u001b[0;34m\u001b[0m\u001b[0m\n\u001b[0m",
      "\u001b[0;31mIOError\u001b[0m: [Errno 2] No such file or directory: 'home/songbird/Desktop/3Dseg.pkl'"
     ]
    }
   ],
   "source": [
    "\n",
    "import pickle \n",
    "\n",
    "pickle.dump(multicut3D, open('home/songbird/Desktop/3Dseg.pkl', 'wb'))"
   ]
  },
  {
   "cell_type": "markdown",
   "metadata": {},
   "source": [
    "## Mergers Splits and other metrics"
   ]
  },
  {
   "cell_type": "code",
   "execution_count": 25,
   "metadata": {},
   "outputs": [],
   "source": [
    "from skeleton_utils import *\n",
    "sk_container =SkeletonContainer()\n",
    "sk_container.read_from_knossos_nml('/home/songbird/Desktop/knossos/annotation.xml',voxel_size=[5,5,5])\n",
    "for sk in sk_container.skeleton_list:\n",
    "    sk.interpolate_edges()\n",
    "\n",
    "\n",
    "test=sk_container\n",
    "for sk in test.skeleton_list:\n",
    "    sk.shift_skeleton(np.array([-ys,-xs,-start]),'voxel')"
   ]
  },
  {
   "cell_type": "code",
   "execution_count": 26,
   "metadata": {},
   "outputs": [],
   "source": [
    "for sk in test.skeleton_list:\n",
    "    sk.crop_graph_to_bb([0,0,0],[ye-ys,xe-xs,end-start])"
   ]
  },
  {
   "cell_type": "code",
   "execution_count": 20,
   "metadata": {},
   "outputs": [
    {
     "name": "stdout",
     "output_type": "stream",
     "text": [
      "('file written to ', '/home/songbird/Desktop/cropped_annotation.nml')\n"
     ]
    }
   ],
   "source": [
    "test.write_to_knossos_nml('/home/songbird/Desktop/cropped_annotation.nml')"
   ]
  },
  {
   "cell_type": "code",
   "execution_count": 27,
   "metadata": {},
   "outputs": [
    {
     "data": {
      "text/plain": [
       "4456.100001160482"
      ]
     },
     "execution_count": 27,
     "metadata": {},
     "output_type": "execute_result"
    }
   ],
   "source": [
    "test.calculate_total_phys_length()\n"
   ]
  },
  {
   "cell_type": "code",
   "execution_count": 184,
   "metadata": {
    "scrolled": true
   },
   "outputs": [],
   "source": [
    "results=[]\n",
    "for m in multicut3D:\n",
    "    results.append(evaluate_segmentation_with_gt_skeletons(m[0], test))\n"
   ]
  },
  {
   "cell_type": "code",
   "execution_count": 185,
   "metadata": {},
   "outputs": [],
   "source": [
    "regionsD=[]\n",
    "for m in multicut3D:\n",
    "    regionsD.append(len(m[1]))"
   ]
  },
  {
   "cell_type": "code",
   "execution_count": 186,
   "metadata": {},
   "outputs": [],
   "source": [
    "mergers=[]\n",
    "splits=[]\n",
    "for r in results:\n",
    "    mergers.append(r[0])\n",
    "    splits.append(r[1])"
   ]
  },
  {
   "cell_type": "code",
   "execution_count": 187,
   "metadata": {},
   "outputs": [
    {
     "data": {
      "text/plain": [
       "[0, 2, 7, 11, 11, 14, 17, 16, 5, 0]"
      ]
     },
     "execution_count": 187,
     "metadata": {},
     "output_type": "execute_result"
    }
   ],
   "source": [
    "mergers"
   ]
  },
  {
   "cell_type": "code",
   "execution_count": 189,
   "metadata": {},
   "outputs": [
    {
     "data": {
      "image/png": "[encoded data removed]",
      "text/plain": [
       "<matplotlib.figure.Figure at 0x7fcdc8358150>"
      ]
     },
     "metadata": {},
     "output_type": "display_data"
    }
   ],
   "source": [
    "\n",
    "%matplotlib inline\n",
    "\n",
    "import matplotlib\n",
    "import numpy as np\n",
    "import matplotlib.pyplot as plt\n",
    "\n",
    "plt.plot(range(10), splits, 'r') # plotting t, a separately \n",
    "plt.xlabel('Distance')\n",
    "plt.ylabel('Number of Splits')\n",
    "plt.show()"
   ]
  },
  {
   "cell_type": "code",
   "execution_count": 190,
   "metadata": {},
   "outputs": [
    {
     "data": {
      "image/png": "[encoded data removed]",
      "text/plain": [
       "<matplotlib.figure.Figure at 0x7fcd9674cad0>"
      ]
     },
     "metadata": {},
     "output_type": "display_data"
    }
   ],
   "source": [
    "plt.plot(range(10), mergers, 'b') # plotting t, a separately \n",
    "plt.xlabel('Distance')\n",
    "plt.ylabel('Number of Mergers')\n",
    "plt.show()"
   ]
  },
  {
   "cell_type": "code",
   "execution_count": 191,
   "metadata": {},
   "outputs": [
    {
     "data": {
      "image/png": "[encoded data removed]",
      "text/plain": [
       "<matplotlib.figure.Figure at 0x7fcd96535310>"
      ]
     },
     "metadata": {},
     "output_type": "display_data"
    }
   ],
   "source": [
    "plt.plot(range(10), regionsD, 'g') # plotting t, a separately \n",
    "plt.xlabel('Distance')\n",
    "plt.ylabel('Number of supervoxels in the segmentation')\n",
    "plt.show()"
   ]
  },
  {
   "cell_type": "code",
   "execution_count": 192,
   "metadata": {},
   "outputs": [],
   "source": [
    "rates=[]\n",
    "for i in range(10):\n",
    "    rates.append(100*float(mergers[i])/float(regionsD[i]))"
   ]
  },
  {
   "cell_type": "code",
   "execution_count": 193,
   "metadata": {},
   "outputs": [],
   "source": [
    "splitrates=[]\n",
    "for i in range(10):\n",
    "    splitrates.append(100*float(splits[i])/float(regionsD[i]))"
   ]
  },
  {
   "cell_type": "code",
   "execution_count": 608,
   "metadata": {},
   "outputs": [
    {
     "data": {
      "image/png": "[encoded data removed]",
      "text/plain": [
       "<matplotlib.figure.Figure at 0x7fcd8c3bf650>"
      ]
     },
     "metadata": {},
     "output_type": "display_data"
    }
   ],
   "source": [
    "plt.plot(range(10), rates, 'b') # plotting t, a separately \n",
    "plt.xlabel('Distance')\n",
    "plt.ylabel('Rate of Mergers in %')\n",
    "plt.show()"
   ]
  },
  {
   "cell_type": "code",
   "execution_count": 609,
   "metadata": {},
   "outputs": [
    {
     "data": {
      "image/png": "[encoded data removed]",
      "text/plain": [
       "<matplotlib.figure.Figure at 0x7fcdc8273490>"
      ]
     },
     "metadata": {},
     "output_type": "display_data"
    }
   ],
   "source": [
    "plt.plot(range(10), splitrates, 'b') # plotting t, a separately \n",
    "plt.xlabel('Distance')\n",
    "plt.ylabel('Rate of split in %')\n",
    "plt.show()"
   ]
  },
  {
   "cell_type": "markdown",
   "metadata": {},
   "source": [
    "## Nyroglancer viz"
   ]
  },
  {
   "cell_type": "code",
   "execution_count": 611,
   "metadata": {},
   "outputs": [
    {
     "data": {
      "text/html": [
       "<iframe src=\"http://localhost:8888/neuroglancer#!%7B%22layers%22:%7B%22multicut%203d%22:%7B%22source%22:%22python://http://localhost:8888/73c06f62f9dfb7b590244490dfb53a4b5a681724%22,%22type%22:%22segmentation%22%7D,%22proba%22:%7B%22source%22:%22python://http://localhost:8888/29bfb98b074511e29a23e63b9ed3d9db6e7ca51f%22,%22type%22:%22image%22%7D,%22raw%22:%7B%22source%22:%22python://http://localhost:8888/e3b2d6a22e8cee5bd315d8171be467b5362aded0%22,%22type%22:%22image%22%7D%7D%7D\" width=\"100%\" height=\"1024px\"><\\iframe>"
      ],
      "text/plain": [
       "<IPython.core.display.HTML object>"
      ]
     },
     "execution_count": 611,
     "metadata": {},
     "output_type": "execute_result"
    }
   ],
   "source": [
    "viewer = nyroglancer.Viewer()\n",
    "#viewer.add(multicut_final, name=\"multicut with unique indexes\")\n",
    "viewer.add(multicut3D[1][0], name=\"multicut 3d\")\n",
    "viewer.add(proba_final, name='proba')\n",
    "viewer.add(rawfinal, name='raw')\n",
    "viewer.show()"
   ]
  },
  {
   "cell_type": "code",
   "execution_count": null,
   "metadata": {},
   "outputs": [],
   "source": [
    "multicut3D[0][0]"
   ]
  },
  {
   "cell_type": "code",
   "execution_count": null,
   "metadata": {},
   "outputs": [],
   "source": [
    "multicut_final[0]"
   ]
  },
  {
   "cell_type": "code",
   "execution_count": null,
   "metadata": {},
   "outputs": [],
   "source": []
  }
 ],
 "metadata": {
  "kernelspec": {
   "display_name": "Python 2",
   "language": "python",
   "name": "python2"
  },
  "language_info": {
   "codemirror_mode": {
    "name": "ipython",
    "version": 2
   },
   "file_extension": ".py",
   "mimetype": "text/x-python",
   "name": "python",
   "nbconvert_exporter": "python",
   "pygments_lexer": "ipython2",
   "version": "2.7.14"
  }
 },
 "nbformat": 4,
 "nbformat_minor": 2
}
